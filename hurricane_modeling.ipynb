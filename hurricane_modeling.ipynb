{
 "cells": [
  {
   "cell_type": "markdown",
   "id": "14486f43",
   "metadata": {},
   "source": [
    "# Modeling Hurricane Data"
   ]
  },
  {
   "cell_type": "code",
   "execution_count": null,
   "id": "84f7436d",
   "metadata": {},
   "outputs": [],
   "source": [
    "import os\n",
    "import numpy as np\n",
    "import pandas as pd\n",
    "from matplotlib import pyplot as plt\n",
    "from scipy import stats\n",
    "import statsmodels.api as sm\n",
    "import statsmodels.formula.api as smf\n",
    "import math\n",
    "from ipywidgets import interact, interactive, fixed, interact_manual\n",
    "import ipywidgets as widgets"
   ]
  },
  {
   "cell_type": "code",
   "execution_count": null,
   "id": "5bede2a7",
   "metadata": {},
   "outputs": [],
   "source": [
    "# read in the storm landfall data\n",
    "data = np.genfromtxt(os.path.join('data','hurricane_data','UShur1851-2010.txt'),\n",
    "                     skip_header=1, delimiter='   ').astype(int)\n",
    "\n",
    "# read in the storm data\n",
    "dftrop = pd.read_csv(os.path.join('data','hurricane_data','tropical.txt'),sep='\\t')\n",
    "dftrop = dftrop.set_index('Year',drop=False)"
   ]
  },
  {
   "cell_type": "markdown",
   "id": "5ef76260",
   "metadata": {},
   "source": [
    "## Plot the hurricane data"
   ]
  },
  {
   "cell_type": "code",
   "execution_count": null,
   "id": "1a8f0433",
   "metadata": {},
   "outputs": [],
   "source": [
    "plt.figure(figsize=(15,6))\n",
    "\n",
    "# the timeseries\n",
    "plt.subplot(1,2,1)\n",
    "plt.bar(data[:,0], data[:,1])\n",
    "plt.grid(linestyle='--',linewidth=0.5,alpha=0.4)\n",
    "plt.ylabel('Number of Hurricanes')\n",
    "\n",
    "# the distribution\n",
    "plt.subplot(1,2,2)\n",
    "plt.hist(data[:,1],bins=np.arange(-0.5,8.5),ec='k')\n",
    "plt.grid(linestyle='--',linewidth=0.5,alpha=0.4)\n",
    "plt.ylabel('Number of Years')\n",
    "plt.xlabel('Number of Hurricanes That Made Landfall');"
   ]
  },
  {
   "cell_type": "markdown",
   "id": "056d79ca",
   "metadata": {},
   "source": [
    "## Investigate Potential Poisson distributions"
   ]
  },
  {
   "cell_type": "code",
   "execution_count": null,
   "id": "357bd2a2",
   "metadata": {},
   "outputs": [],
   "source": [
    "def plot_poisson_distributions(lamb,df):\n",
    "    \n",
    "    k = np.arange(0,30)\n",
    "    \n",
    "    plt.hist(df['NamedStorms'], bins=np.arange(-0.5,30.5), ec='k', density=True)\n",
    "    \n",
    "    pmf_poisson = stats.poisson.pmf(k,lamb)\n",
    "    plt.plot(k,pmf_poisson, 'k-')\n",
    "    \n",
    "    plt.grid(linestyle='--',linewidth=0.5,alpha=0.4)\n",
    "    plt.ylabel('Number of Years')\n",
    "    plt.xlabel('Number of Hurricanes')\n",
    "    plt.gca().set_ylim([0,0.175])\n",
    "    \n",
    "    plt.title('$\\\\lambda = $' + '{:.2f}'.format(lamb))"
   ]
  },
  {
   "cell_type": "code",
   "execution_count": null,
   "id": "133a3cee",
   "metadata": {
    "scrolled": false
   },
   "outputs": [],
   "source": [
    "interact(plot_poisson_distributions,\n",
    "         lamb=widgets.FloatSlider(min=0, max=30, step=0.2, value=5),\n",
    "        df=fixed(dftrop));"
   ]
  },
  {
   "cell_type": "markdown",
   "id": "035f615a",
   "metadata": {},
   "source": [
    "## Poisson Distribution with a Constant Expected Value\n",
    "We can estimate the expected value $\\lambda$ of the of the Poisson distribution \n",
    "$$P(k|\\lambda) = \\frac{\\lambda^k e^{-\\lambda}}{k!}$$\n",
    "using the Generalized Linear Model function of the statsmodel module. In particular, the following code will solve for $\\beta_0$ such that\n",
    "$$\\beta_0 = \\text{log}(u)$$"
   ]
  },
  {
   "cell_type": "code",
   "execution_count": null,
   "id": "f3dc6bab",
   "metadata": {},
   "outputs": [],
   "source": [
    "result = smf.glm(formula='NamedStorms ~ 1',\n",
    "                 data=dftrop,\n",
    "                 family=sm.families.Poisson()).fit()\n",
    "result.summary()\n",
    "beta_0 = result.params.iloc[0]\n",
    "Lambda = np.exp(beta_0)\n",
    "print(Lambda)"
   ]
  },
  {
   "cell_type": "markdown",
   "id": "1156cfa4",
   "metadata": {},
   "source": [
    "## Climate Variables\n",
    "In the next section, we consider the extent to which $\\lambda$ might be related to climate variables such as the Southern Oscillation Index, the North Atlantic Oscillation, or the temperature in the North Atlantic. In other words, how can climate as predictor variables for the expected value $\\lambda$ such that\n",
    "$$\\text{log}(\\lambda_i) = \\beta_0 + x_{1,i}\\beta_1 + x_{2,i}\\beta_2 + x_{3,i}\\beta_3$$\n",
    "First, we'll implement a function to read in the variables:"
   ]
  },
  {
   "cell_type": "code",
   "execution_count": null,
   "id": "33034459",
   "metadata": {},
   "outputs": [],
   "source": [
    "def read_psl_file(psl_file):\n",
    "    '''\n",
    "    Read a data file in in NOAA Physical Sciences Laboratory (PSL) format\n",
    "    \n",
    "    Input: String containing the path to a PSL data file\n",
    "    Returns: Pandas dataframe with monthly data in columns and the year as the index\n",
    "    \n",
    "    For a description of the PSL format see: https://psl.noaa.gov/gcos_wgsp/Timeseries/standard/\n",
    "    '''\n",
    "    \n",
    "    f = open(psl_file, \"r\")\n",
    "    all_lines = f.readlines()\n",
    "    start_year = all_lines[0].split()[0]\n",
    "    end_year = all_lines[0].split()[1]\n",
    "\n",
    "    for i in range(1,len(all_lines)):\n",
    "        stri = all_lines[i].find(end_year)\n",
    "        if stri>=0:\n",
    "            end_index = i\n",
    "\n",
    "    missing_val = float(all_lines[end_index+1])\n",
    "    nrows = int(end_year)-int(start_year)+1\n",
    "    df = pd.read_csv(psl_file,skiprows=1,nrows=nrows,sep='\\\\s+',header=None,na_values=missing_val)\n",
    "    df = df.rename(columns={0:'year'})\n",
    "    df = df.set_index('year',drop=True)\n",
    "    \n",
    "    return df"
   ]
  },
  {
   "cell_type": "markdown",
   "id": "17266bf9",
   "metadata": {},
   "source": [
    "Next, we read the variables in and add them to the dataframe:"
   ]
  },
  {
   "cell_type": "code",
   "execution_count": null,
   "id": "26b28c80",
   "metadata": {},
   "outputs": [],
   "source": [
    "# read in the climate indices\n",
    "dfsoi = read_psl_file(os.path.join('data','hurricane_data','soi.data'))\n",
    "dftna = read_psl_file(os.path.join('data','hurricane_data','tna.data'))\n",
    "dfnao = read_psl_file(os.path.join('data','hurricane_data','nao.data'))\n",
    "\n",
    "dftrop['SOI'] = dfsoi.loc[:,5:6].mean(axis=1)\n",
    "dftrop['TNA'] = dftna.loc[:,5:6].mean(axis=1)\n",
    "dftrop['NAO'] = dfnao.loc[:,5:6].mean(axis=1)\n",
    "\n",
    "df = dftrop.dropna()"
   ]
  },
  {
   "cell_type": "markdown",
   "id": "f24dd973",
   "metadata": {},
   "source": [
    "And then we plot them to investigate:"
   ]
  },
  {
   "cell_type": "code",
   "execution_count": null,
   "id": "d7788bd3",
   "metadata": {},
   "outputs": [],
   "source": [
    "plt.figure(figsize=(10,7))\n",
    "\n",
    "plt.subplot(3,1,1)\n",
    "plt.bar(df['Year'], df['SOI'])\n",
    "plt.title('Southern Oscillation Index')\n",
    "plt.grid(linestyle='--', alpha=0.4, linewidth = 0.4)\n",
    "plt.gca().set_xticklabels([])\n",
    "\n",
    "plt.subplot(3,1,2)\n",
    "plt.bar(df['Year'], df['TNA'])\n",
    "plt.title('North Atlantic Temperature')\n",
    "plt.grid(linestyle='--', alpha=0.4, linewidth = 0.4)\n",
    "plt.gca().set_xticklabels([])\n",
    "\n",
    "plt.subplot(3,1,3)\n",
    "plt.bar(df['Year'], df['NAO'])\n",
    "plt.title('North Atlantic Oscillation')\n",
    "plt.grid(linestyle='--', alpha=0.4, linewidth = 0.4)\n"
   ]
  },
  {
   "cell_type": "markdown",
   "id": "c2310207",
   "metadata": {},
   "source": [
    "Using the same code as above, we investigate how the indices can be used as a predictor of the expected value in each year: "
   ]
  },
  {
   "cell_type": "code",
   "execution_count": null,
   "id": "13cc7e59",
   "metadata": {},
   "outputs": [],
   "source": [
    "# Model: A constant and three climate indices\n",
    "result = smf.glm(formula='NamedStorms ~ 1 + SOI + TNA + NAO',\n",
    "                 data=df,\n",
    "                 family=sm.families.Poisson()).fit()\n",
    "print(result.summary())\n",
    "beta = result.params\n",
    "Lambda = np.exp(beta.iloc[0] + beta.iloc[1]*df['SOI'] +\n",
    "                beta.iloc[2]*df['TNA'] + beta.iloc[3]*df['NAO'])\n"
   ]
  },
  {
   "cell_type": "code",
   "execution_count": null,
   "id": "fbc00329",
   "metadata": {},
   "outputs": [],
   "source": [
    "plt.plot(df['Year'], Lambda, label='Model')\n",
    "plt.plot(df['Year'], df['NamedStorms'], 'k.',label='data')\n",
    "plt.title(\"Named Storms\")\n",
    "plt.legend()\n",
    "plt.ylabel(\"Counts\")\n",
    "plt.grid(linestyle='--',linewidth=0.5,alpha=0.6)"
   ]
  }
 ],
 "metadata": {
  "kernelspec": {
   "display_name": "data-25",
   "language": "python",
   "name": "data-25"
  },
  "language_info": {
   "codemirror_mode": {
    "name": "ipython",
    "version": 3
   },
   "file_extension": ".py",
   "mimetype": "text/x-python",
   "name": "python",
   "nbconvert_exporter": "python",
   "pygments_lexer": "ipython3",
   "version": "3.12.8"
  }
 },
 "nbformat": 4,
 "nbformat_minor": 5
}
