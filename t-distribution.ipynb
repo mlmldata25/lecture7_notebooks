{
 "cells": [
  {
   "cell_type": "markdown",
   "id": "f06632bc-29e9-4255-b0d7-20e9c8162c65",
   "metadata": {},
   "source": [
    "# Using sampling to construct the $t$-distribution\n",
    "\n",
    "In this notebook, we'll explore the one sample $t$-test as an example for reconstructing the $t$-distribution.\n",
    "\n",
    "*Import the modules for this notebook:*"
   ]
  },
  {
   "cell_type": "code",
   "execution_count": null,
   "id": "e70e5765-de8b-4c4a-94c2-a43877daf3d6",
   "metadata": {},
   "outputs": [],
   "source": [
    "import numpy as np\n",
    "import matplotlib.pyplot as plt\n",
    "from scipy.stats import t"
   ]
  },
  {
   "cell_type": "markdown",
   "id": "d462c93c",
   "metadata": {},
   "source": [
    "Next, set up the parameters for this example:"
   ]
  },
  {
   "cell_type": "code",
   "execution_count": null,
   "id": "ee1b8ffe-ca11-4262-a679-3f901127741f",
   "metadata": {},
   "outputs": [],
   "source": [
    "# number of samples\n",
    "N = 5\n",
    "\n",
    "# true mean\n",
    "mu0 = 22\n",
    "\n",
    "# mean and standard deviation of the distribution\n",
    "mu = 22\n",
    "sigma = 4"
   ]
  },
  {
   "cell_type": "markdown",
   "id": "52f1fc31-bc08-4b3e-bd0a-f1f68efcafb6",
   "metadata": {},
   "source": [
    "### Make a function to to calculate the sample\n",
    "\n",
    "Here, we define some functions to take $N$ random samples from normally-distributed data"
   ]
  },
  {
   "cell_type": "code",
   "execution_count": null,
   "id": "91719368-2af1-4061-afbb-a89cd6ee7817",
   "metadata": {},
   "outputs": [],
   "source": [
    "def compute_sample(mu0, mu, sigma, N):\n",
    "    values = np.random.normal(mu, sigma, N)\n",
    "    t = (np.mean(values)-mu0)/(np.std(values, ddof=1)/np.sqrt(N))\n",
    "    return(values, t)"
   ]
  },
  {
   "cell_type": "code",
   "execution_count": null,
   "id": "e4e1f1b6-f7e9-4ba8-92ea-a6559b525d8b",
   "metadata": {},
   "outputs": [],
   "source": [
    "def gaussian(x, mu, sigma):\n",
    "    p = (1/np.sqrt(2*np.pi*sigma**2)) * np.exp(-1*((x-mu)**2)/(2*sigma**2))\n",
    "    return(p)"
   ]
  },
  {
   "cell_type": "code",
   "execution_count": null,
   "id": "2dc52221-3b35-4018-b2b2-51a626938ca3",
   "metadata": {},
   "outputs": [],
   "source": [
    "def plot_samples(mu0, mu, sigma, values,t_val):\n",
    "    x = np.linspace(mu-3*sigma,mu+3*sigma,100)\n",
    "    p = gaussian(x, mu,sigma)\n",
    "    p_samples = gaussian(values, mu,sigma)\n",
    "\n",
    "    plt.plot(x,p,'k-')\n",
    "    plt.plot(values,p_samples,'k.',markersize=8)\n",
    "    plt.title('$t=$'+str(t_val))\n",
    "    plt.show()\n",
    "\n",
    "values, t_val = compute_sample(mu0, mu, sigma, N)\n",
    "plot_samples(mu0, mu, sigma, values, t_val)"
   ]
  },
  {
   "cell_type": "markdown",
   "id": "932ada9c",
   "metadata": {},
   "source": [
    "### Repeating the process\n",
    "\n",
    "What happens if we repeat this process many times? What are the distribution of $t$ values we would get?"
   ]
  },
  {
   "cell_type": "code",
   "execution_count": null,
   "id": "f7375eb7-e9cf-4b08-846f-d25170e2c077",
   "metadata": {},
   "outputs": [],
   "source": [
    "trials = 10000\n",
    "t_values = np.zeros((trials,))\n",
    "for i in range(trials):\n",
    "    t_values[i] = compute_sample(mu0, mu, sigma, N)[1]"
   ]
  },
  {
   "cell_type": "code",
   "execution_count": null,
   "id": "840419d6-7f1c-42a7-8c6b-66f09410c115",
   "metadata": {},
   "outputs": [],
   "source": [
    "df = N-1\n",
    "x_t = np.linspace(-4, 4, 100)\n",
    "plt.plot(x_t, t.pdf(x_t, df),'k-', label='PDF from scipy.stats')\n",
    "plt.hist(t_values,density=True,bins=np.linspace(-4,4,100), label='sampled values')\n",
    "plt.xlabel('t')\n",
    "plt.ylabel('density')\n",
    "plt.legend()\n",
    "plt.show()"
   ]
  }
 ],
 "metadata": {
  "kernelspec": {
   "display_name": "data-25",
   "language": "python",
   "name": "data-25"
  },
  "language_info": {
   "codemirror_mode": {
    "name": "ipython",
    "version": 3
   },
   "file_extension": ".py",
   "mimetype": "text/x-python",
   "name": "python",
   "nbconvert_exporter": "python",
   "pygments_lexer": "ipython3",
   "version": "3.12.8"
  }
 },
 "nbformat": 4,
 "nbformat_minor": 5
}
