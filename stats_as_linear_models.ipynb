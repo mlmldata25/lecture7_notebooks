{
 "cells": [
  {
   "cell_type": "markdown",
   "metadata": {},
   "source": [
    "# Stats as Linear Models\n",
    "\n",
    "In this notebook, we'll explore statistical tests as linear models.\n",
    "\n",
    "**Import the modules for this notebook**"
   ]
  },
  {
   "cell_type": "code",
   "execution_count": null,
   "metadata": {},
   "outputs": [],
   "source": [
    "import os\n",
    "import numpy as np\n",
    "import pandas as pd\n",
    "import matplotlib.pyplot as plt\n",
    "from scipy import stats\n",
    "import statsmodels.formula.api as smf\n",
    "import pingouin as pg\n",
    "import PyCO2SYS as pyco2\n",
    "import warnings\n",
    "# ignore scary PyCO2SYS warnings\n",
    "warnings.simplefilter(\"ignore\", RuntimeWarning)\n",
    "np.set_printoptions(legacy='1.25') #dont print the float64 for every number"
   ]
  },
  {
   "cell_type": "markdown",
   "metadata": {},
   "source": [
    "## Loading the data\n",
    "In this example, we'll use data from the 2007 WCOA cruise. As in a previous lab, we'll also use estimates of aragonite saturation state. The cells below will load the data"
   ]
  },
  {
   "cell_type": "code",
   "execution_count": null,
   "metadata": {},
   "outputs": [],
   "source": [
    "filename07 = os.path.join('data','wcoa_cruise_2007','32WC20070511.exc.csv')\n",
    "df07 = pd.read_csv(filename07,header=29,na_values=-999,\n",
    "                 dtype={'DATE': str, 'TIME': str})\n",
    "df07.insert(0,'DATE_TIME',pd.to_datetime(df07.pop('DATE')+' '+df07.pop('TIME'),\n",
    "                                format=\"%m/%d/%Y %H:%M:%S\"))"
   ]
  },
  {
   "cell_type": "markdown",
   "metadata": {},
   "source": [
    "Use the PyCO2SYS package to calculate seawater carbon chemistry parameters.\n",
    "\n",
    "https://pyco2sys.readthedocs.io/en/latest/"
   ]
  },
  {
   "cell_type": "code",
   "execution_count": null,
   "metadata": {},
   "outputs": [],
   "source": [
    "c07 = pyco2.sys(df07['ALKALI'], df07['TCARBN'], 1, 2,\n",
    "               salinity=df07['CTDSAL'], temperature=df07['CTDTMP'], \n",
    "                pressure=df07['CTDPRS'])\n",
    "df07['OmegaA'] = c07['saturation_aragonite']"
   ]
  },
  {
   "cell_type": "markdown",
   "metadata": {},
   "source": [
    "Create a subset of good data in the upper 10m (near surface)."
   ]
  },
  {
   "cell_type": "code",
   "execution_count": null,
   "metadata": {},
   "outputs": [],
   "source": [
    "iisurf07 = ((df07['CTDPRS'] <= 10) &\n",
    "      (df07['NITRAT_FLAG_W'] == 2) & (df07['PHSPHT_FLAG_W'] == 2)\n",
    "      & (df07['CTDOXY_FLAG_W'] == 2) & (df07['CTDSAL_FLAG_W'] == 2) \n",
    "        & (df07['ALKALI_FLAG_W'] == 2) & (df07['TCARBN_FLAG_W'] == 2))\n",
    "df07surf = df07[iisurf07]"
   ]
  },
  {
   "cell_type": "markdown",
   "metadata": {},
   "source": [
    "## One sample t-test - Aragonite Saturation \n",
    "For the first example, we'll take a look at a one sample t-test"
   ]
  },
  {
   "cell_type": "code",
   "execution_count": null,
   "metadata": {},
   "outputs": [],
   "source": [
    "plt.figure()\n",
    "plt.boxplot([df07surf['OmegaA']],\n",
    "            tick_labels=['2007'],showmeans=True,notch=True);\n",
    "plt.title('$\\\\Omega_A$ - upper 10m 2007')\n",
    "plt.plot([0.5,1.5],[1,1],'r--')\n",
    "plt.ylabel('$\\\\Omega_A$')\n",
    "plt.xlabel('region');"
   ]
  },
  {
   "cell_type": "markdown",
   "metadata": {},
   "source": [
    "Compute the mean:"
   ]
  },
  {
   "cell_type": "code",
   "execution_count": null,
   "metadata": {},
   "outputs": [],
   "source": [
    "print(df07surf['OmegaA'].mean())"
   ]
  },
  {
   "cell_type": "markdown",
   "metadata": {},
   "source": [
    "Conduct a t-test using the stats library:"
   ]
  },
  {
   "cell_type": "code",
   "execution_count": null,
   "metadata": {},
   "outputs": [],
   "source": [
    "result = stats.ttest_1samp(df07surf['OmegaA'],1)\n",
    "print(result)\n",
    "ci = result.confidence_interval(confidence_level=0.95)\n",
    "print(ci)"
   ]
  },
  {
   "cell_type": "markdown",
   "metadata": {},
   "source": [
    "Similarly, use the statsmodels OLS method to fit a linear model to the data:"
   ]
  },
  {
   "cell_type": "code",
   "execution_count": null,
   "metadata": {},
   "outputs": [],
   "source": [
    "res = smf.ols(formula=\"OmegaA ~ 1\", data=df07surf).fit()\n",
    "res.summary()"
   ]
  },
  {
   "cell_type": "code",
   "execution_count": null,
   "metadata": {},
   "outputs": [],
   "source": [
    "plt.figure()\n",
    "plt.boxplot([df07surf['OmegaA']],\n",
    "            tick_labels=['2007'],showmeans=True,notch=True);\n",
    "plt.title('$\\\\Omega_A$ - upper 10m 2007')\n",
    "plt.plot([0.5,1.5],[1,1],'r--')\n",
    "plt.plot([0.5,1.5],[ci.high,ci.high], 'b--')\n",
    "plt.plot([0.5,1.5],[res.params.iloc[0],res.params.iloc[0]], 'b-')\n",
    "plt.plot([0.5,1.5],[ci.low,ci.low], 'b--')\n",
    "plt.ylabel('$\\\\Omega_A$')\n",
    "plt.xlabel('region');"
   ]
  },
  {
   "cell_type": "markdown",
   "metadata": {},
   "source": [
    "How the outputs of the above t-test and linear model compare?"
   ]
  },
  {
   "cell_type": "markdown",
   "metadata": {},
   "source": [
    "## Two sample t-test - Aragonite Saturation\n",
    "\n",
    "Next, we'll look at a two-sample t-test. Here, we'll create two subsets of our data - one for the south and one for the north."
   ]
  },
  {
   "cell_type": "code",
   "execution_count": null,
   "metadata": {},
   "outputs": [],
   "source": [
    "df07surf = df07surf.assign(is_northern = df07surf['LATITUDE'] > 40.4)"
   ]
  },
  {
   "cell_type": "code",
   "execution_count": null,
   "metadata": {},
   "outputs": [],
   "source": [
    "plt.figure()\n",
    "plt.boxplot([df07surf['OmegaA'][~df07surf['is_northern']],\n",
    "             df07surf['OmegaA'][df07surf['is_northern']]],\n",
    "            tick_labels=['south','north'],showmeans=True,notch=True);\n",
    "plt.title('$\\\\Omega_A$ - upper 10m 2007')\n",
    "plt.plot([0.5,2.5],\n",
    "         [np.mean(df07surf['OmegaA'][~df07surf['is_northern']]),\n",
    "          np.mean(df07surf['OmegaA'][~df07surf['is_northern']])], 'r--')\n",
    "plt.ylabel('$\\\\Omega_A$')\n",
    "plt.xlabel('region');"
   ]
  },
  {
   "cell_type": "code",
   "execution_count": null,
   "metadata": {},
   "outputs": [],
   "source": [
    "# compute the difference in the means\n",
    "print(np.mean(df07surf['OmegaA'][df07surf['is_northern']])-\n",
    "      np.mean(df07surf['OmegaA'][~df07surf['is_northern']]))"
   ]
  },
  {
   "cell_type": "code",
   "execution_count": null,
   "metadata": {},
   "outputs": [],
   "source": [
    "result = stats.ttest_ind(df07surf['OmegaA'][df07surf['is_northern']],\n",
    "                         df07surf['OmegaA'][~df07surf['is_northern']])\n",
    "print(result)\n",
    "\n",
    "# confidence interval around difference in population means\n",
    "ci = result.confidence_interval(confidence_level=0.95)\n",
    "print(ci)"
   ]
  },
  {
   "cell_type": "code",
   "execution_count": null,
   "metadata": {},
   "outputs": [],
   "source": [
    "res = smf.ols(formula=\"OmegaA ~ is_northern\", data=df07surf).fit()\n",
    "res.summary()"
   ]
  },
  {
   "cell_type": "markdown",
   "metadata": {},
   "source": [
    "## Two sample t-test - Temperature\n",
    "\n",
    "In the above example, we determined there was no significant difference between the means. How does this same test compare for temperature?"
   ]
  },
  {
   "cell_type": "code",
   "execution_count": null,
   "metadata": {},
   "outputs": [],
   "source": [
    "plt.figure()\n",
    "plt.boxplot([df07surf['CTDTMP'][~df07surf['is_northern']],\n",
    "             df07surf['CTDTMP'][df07surf['is_northern']]],\n",
    "            tick_labels=['south','north'],showmeans=True,notch=True);\n",
    "plt.title('Temperature - upper 10m 2007')\n",
    "plt.plot([0.5,2.5],\n",
    "         [np.mean(df07surf['CTDTMP'][~df07surf['is_northern']]),\n",
    "          np.mean(df07surf['CTDTMP'][~df07surf['is_northern']])], 'r--')\n",
    "plt.ylabel('[deg C]')\n",
    "plt.xlabel('region');"
   ]
  },
  {
   "cell_type": "code",
   "execution_count": null,
   "metadata": {},
   "outputs": [],
   "source": [
    "# compute the difference in the means\n",
    "print(np.mean(df07surf['CTDTMP'][df07surf['is_northern']])-\n",
    "      np.mean(df07surf['CTDTMP'][~df07surf['is_northern']]))"
   ]
  },
  {
   "cell_type": "code",
   "execution_count": null,
   "metadata": {},
   "outputs": [],
   "source": [
    "result = stats.ttest_ind(df07surf['CTDTMP'][df07surf['is_northern']],\n",
    "                df07surf['CTDTMP'][~df07surf['is_northern']])\n",
    "print(result)\n",
    "\n",
    "# confidence interval around difference in population means\n",
    "ci = result.confidence_interval(confidence_level=0.95)\n",
    "print(ci)"
   ]
  },
  {
   "cell_type": "code",
   "execution_count": null,
   "metadata": {},
   "outputs": [],
   "source": [
    "res = smf.ols(formula=\"CTDTMP ~ is_northern\", data=df07surf).fit()\n",
    "res.summary()"
   ]
  },
  {
   "cell_type": "code",
   "execution_count": null,
   "metadata": {},
   "outputs": [],
   "source": []
  }
 ],
 "metadata": {
  "kernelspec": {
   "display_name": "data-25",
   "language": "python",
   "name": "data-25"
  },
  "language_info": {
   "codemirror_mode": {
    "name": "ipython",
    "version": 3
   },
   "file_extension": ".py",
   "mimetype": "text/x-python",
   "name": "python",
   "nbconvert_exporter": "python",
   "pygments_lexer": "ipython3",
   "version": "3.12.8"
  }
 },
 "nbformat": 4,
 "nbformat_minor": 4
}
