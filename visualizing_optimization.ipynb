{
 "cells": [
  {
   "cell_type": "markdown",
   "id": "6260de16",
   "metadata": {},
   "source": [
    "# Optimization"
   ]
  },
  {
   "cell_type": "code",
   "execution_count": null,
   "id": "4c8106b6",
   "metadata": {},
   "outputs": [],
   "source": [
    "import os\n",
    "import numpy as np\n",
    "import matplotlib.pyplot as plt\n",
    "from ipywidgets import interact, interactive, fixed, interact_manual\n",
    "import ipywidgets as widgets"
   ]
  },
  {
   "cell_type": "markdown",
   "id": "dae80126",
   "metadata": {},
   "source": [
    "# Example 1: One parameter linear model\n",
    "To illustrate the concept of optimization, we will first investigate fitting a model of the form\n",
    "$$ \\hat{y} = px $$\n",
    "to a set of linear-looking data."
   ]
  },
  {
   "cell_type": "markdown",
   "id": "a7c04702",
   "metadata": {},
   "source": [
    "First, read in the example data set using `numpy`:"
   ]
  },
  {
   "cell_type": "code",
   "execution_count": null,
   "id": "c884d287",
   "metadata": {},
   "outputs": [],
   "source": [
    "data_1 = np.genfromtxt(os.path.join('data','optimization_data',\n",
    "                                    'linear_data.csv'),delimiter=',')"
   ]
  },
  {
   "cell_type": "markdown",
   "id": "426f1dd0",
   "metadata": {},
   "source": [
    "We can make a plot to take a peek at our data:"
   ]
  },
  {
   "cell_type": "code",
   "execution_count": null,
   "id": "7f4e6287",
   "metadata": {},
   "outputs": [],
   "source": [
    "plt.figure()\n",
    "plt.plot(data_1[:,0],data_1[:,1],'b.')\n",
    "plt.gca().set_xlim([0, 1])\n",
    "plt.gca().set_ylim([0, 2])\n",
    "plt.grid(linestyle='--',linewidth=0.4)\n",
    "plt.title('Data');"
   ]
  },
  {
   "cell_type": "markdown",
   "id": "0b830a86",
   "metadata": {},
   "source": [
    "To fit our model to this data, we can calculate the sum of squares for every combination of possible slopes $p$: "
   ]
  },
  {
   "cell_type": "code",
   "execution_count": null,
   "id": "0132e9c2",
   "metadata": {},
   "outputs": [],
   "source": [
    "p_test = np.arange(0,4.01,0.01)\n",
    "cost = np.zeros_like(p_test)\n",
    "for pi in range(len(p_test)):\n",
    "    cost[pi] = np.sum((p_test[pi]*data_1[:,0] - data_1[:,1])**2)"
   ]
  },
  {
   "cell_type": "markdown",
   "id": "55613f9a",
   "metadata": {},
   "source": [
    "Next, we can plot the cost function and compare with the model fit. First, we write a function to make the plot and then pass it to the `interact` function below."
   ]
  },
  {
   "cell_type": "code",
   "execution_count": null,
   "id": "c7582c98",
   "metadata": {},
   "outputs": [],
   "source": [
    "def plot_cost_and_model(p,p_test,cost):\n",
    "\n",
    "    plt.figure(figsize=(14,5))\n",
    "\n",
    "    plt.subplot(1,2,1)\n",
    "#     plt.scatter(p_test,cost,'r-', label='cost')\n",
    "    plt.scatter(p_test, cost, c=cost, cmap='turbo')\n",
    "    index = np.argmin(np.abs(p_test-p))\n",
    "    plt.plot(p,cost[index],'ko',markersize=10)\n",
    "    plt.plot(p,cost[index],'wo',markersize=8)\n",
    "    plt.gca().set_xlim([0,4])\n",
    "    plt.gca().set_ylim([0, 14])\n",
    "    plt.ylabel('cost: $\\Sigma (\\hat{y} - y)^2$')\n",
    "    plt.xlabel('parameter: $p$')\n",
    "    plt.grid(linestyle='--',linewidth=0.4)\n",
    "    plt.grid(linestyle='--',linewidth=0.4)\n",
    "\n",
    "    plt.subplot(1,2,2)\n",
    "    x = np.arange(0,1.1,0.1)\n",
    "    plt.plot(x,p*x,'k-', label='model: $\\hat{y} = px$')\n",
    "    plt.plot(data_1[:,0],data_1[:,1],'b.')\n",
    "    plt.gca().set_xlim([0, 1])\n",
    "    plt.gca().set_ylim([0, 2])\n",
    "    plt.grid(linestyle='--',linewidth=0.4)\n",
    "    plt.legend(loc=2)\n",
    "    plt.grid(linestyle='--',linewidth=0.4)\n"
   ]
  },
  {
   "cell_type": "markdown",
   "id": "ac32cf5c",
   "metadata": {},
   "source": [
    "Now, we can visualize how different models compare in both their cost and their visual fit to the data:"
   ]
  },
  {
   "cell_type": "code",
   "execution_count": null,
   "id": "1216ae2c",
   "metadata": {},
   "outputs": [],
   "source": [
    "interact(plot_cost_and_model,\n",
    "         p=widgets.FloatSlider(min=0, max=4, step=0.01, value=0.5),\n",
    "         p_test=fixed(p_test), cost=fixed(cost));"
   ]
  },
  {
   "cell_type": "markdown",
   "id": "cca107d9",
   "metadata": {},
   "source": [
    "## Example 2: Two Parameter Nonlinear Model\n",
    "In this example, we will optimize the parameterize $c_1$ and $c_2$ in the following model:\n",
    "$$ \\hat{y} = c_0 e^{c_1t} $$\n",
    "First, we'll read in an example data set:"
   ]
  },
  {
   "cell_type": "code",
   "execution_count": null,
   "id": "32b0ec00",
   "metadata": {},
   "outputs": [],
   "source": [
    "data_2 = np.genfromtxt(os.path.join('data','optimization_data',\n",
    "                                    'nonlinear_data.csv'), delimiter=',')"
   ]
  },
  {
   "cell_type": "markdown",
   "id": "8734dea8",
   "metadata": {},
   "source": [
    "First, take a look at the data:"
   ]
  },
  {
   "cell_type": "code",
   "execution_count": null,
   "id": "9991583f",
   "metadata": {},
   "outputs": [],
   "source": [
    "plt.plot(data_2[:,0], data_2[:,1],'ko',markersize=8)\n",
    "plt.plot(data_2[:,0], data_2[:,1],'wo',markersize=7)\n",
    "plt.grid(linestyle='--',linewidth=0.4)\n",
    "plt.ylabel('Phytoplankton (cells/ml)')\n",
    "plt.xlabel('Day');\n",
    "plt.gca().set_xlim([0,26])\n",
    "plt.gca().set_ylim([0,15e6]);"
   ]
  },
  {
   "cell_type": "markdown",
   "id": "c1f55b10",
   "metadata": {},
   "source": [
    "As above, we can calculate the cost of our model over a range of parameter values. Here, we explore the parameter space of $c_0$ and $c_1$:"
   ]
  },
  {
   "cell_type": "code",
   "execution_count": null,
   "id": "092cff41",
   "metadata": {},
   "outputs": [],
   "source": [
    "c1_test = np.arange(0,1.01,0.01)\n",
    "c0_test = np.arange(0,5e5,500)\n",
    "\n",
    "cost = np.zeros((len(c1_test),len(c0_test)))\n",
    "for c0i in range(len(c0_test)):\n",
    "    for c1i in range(len(c1_test)):\n",
    "        cost[c1i,c0i] = np.sum((c0_test[c0i]*np.exp(data_2[:,0]*c1_test[c1i]) - data_2[:,1])**2)"
   ]
  },
  {
   "cell_type": "markdown",
   "id": "5266b46a",
   "metadata": {},
   "source": [
    "Similar to above, we will visually explore the parameter space by defining a plot function and then exploring it with the interact tool:"
   ]
  },
  {
   "cell_type": "code",
   "execution_count": null,
   "id": "eea31677",
   "metadata": {},
   "outputs": [],
   "source": [
    "def plot_cost_and_model_2d(c0, c1, c0_test, c1_test, cost):\n",
    "\n",
    "    plt.figure(figsize=(14,5))\n",
    "\n",
    "    plt.subplot(1,2,1)\n",
    "    C = plt.pcolormesh(c0_test, c1_test, np.log10(cost), cmap='turbo')\n",
    "    cbar = plt.colorbar(C)\n",
    "    cbar.set_label('log(error)')\n",
    "    plt.plot(c0,c1,'ko',markersize=10)\n",
    "    plt.plot(c0,c1,'wo',markersize=8)\n",
    "    plt.xlabel('$c_0$')\n",
    "    plt.ylabel('$c_1$')\n",
    "    # plt.xscale(\"log\")\n",
    "    plt.gca().set_xlim([0,1])\n",
    "    plt.gca().set_xlim([0,5e5])\n",
    "\n",
    "    plt.subplot(1,2,2)\n",
    "    plt.plot(data_2[:,0], data_2[:,1],'ko',markersize=8)\n",
    "    plt.plot(data_2[:,0], data_2[:,1],'wo',markersize=7)\n",
    "    t = np.arange(0,26)\n",
    "    plt.plot(t,c0*np.exp(c1*t))\n",
    "    plt.grid(linestyle='--',linewidth=0.4)\n",
    "    plt.ylabel('Phytoplankton (cells/ml)')\n",
    "    plt.xlabel('Day');\n",
    "    plt.gca().set_xlim([0,26])\n",
    "    plt.gca().set_ylim([0,15e6])"
   ]
  },
  {
   "cell_type": "code",
   "execution_count": null,
   "id": "20aa33d6",
   "metadata": {},
   "outputs": [],
   "source": [
    "interact(plot_cost_and_model_2d,\n",
    "         c0=widgets.FloatSlider(min=0, max=5e5, step=500, value=1.5e5),\n",
    "         c1=widgets.FloatSlider(min=0, max=1, step=0.01, value=0.14),\n",
    "         c0_test=fixed(c0_test), c1_test=fixed(c1_test), cost=fixed(cost));"
   ]
  },
  {
   "cell_type": "markdown",
   "id": "b7049819",
   "metadata": {},
   "source": [
    "Using the cost function, we can determine the two parameters that yield the lowest cost:"
   ]
  },
  {
   "cell_type": "code",
   "execution_count": null,
   "id": "dd388df8",
   "metadata": {},
   "outputs": [],
   "source": [
    "#find indices of lowest error\n",
    "min_c1_index, min_c0_index = np.where(cost==np.min(cost))\n",
    "\n",
    "c0_best = c0_test[min_c0_index][0]\n",
    "c1_best = c1_test[min_c1_index][0]\n",
    "\n",
    "print('c_0 = ',c0_best)\n",
    "print('c_1 = ',c1_best)"
   ]
  }
 ],
 "metadata": {
  "kernelspec": {
   "display_name": "Python 3 (ipykernel)",
   "language": "python",
   "name": "python3"
  },
  "language_info": {
   "codemirror_mode": {
    "name": "ipython",
    "version": 3
   },
   "file_extension": ".py",
   "mimetype": "text/x-python",
   "name": "python",
   "nbconvert_exporter": "python",
   "pygments_lexer": "ipython3",
   "version": "3.11.3"
  }
 },
 "nbformat": 4,
 "nbformat_minor": 5
}
